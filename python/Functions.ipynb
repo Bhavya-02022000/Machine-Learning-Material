{
 "cells": [
  {
   "cell_type": "markdown",
   "id": "opponent-taylor",
   "metadata": {},
   "source": [
    "# Function "
   ]
  },
  {
   "cell_type": "code",
   "execution_count": 22,
   "id": "painted-likelihood",
   "metadata": {},
   "outputs": [],
   "source": [
    "# Check whether the number is prime or not\n",
    "def is_prime(num):\n",
    "    c=0\n",
    "    for i in range(2, num):\n",
    "        if (num%i==0):\n",
    "            return \"not a prime\"\n",
    "            break\n",
    "    else:\n",
    "        return \"prime\""
   ]
  },
  {
   "cell_type": "code",
   "execution_count": 13,
   "id": "boxed-multimedia",
   "metadata": {},
   "outputs": [
    {
     "name": "stdout",
     "output_type": "stream",
     "text": [
      "not a prime\n"
     ]
    }
   ],
   "source": [
    "result = is_prime(27)\n",
    "print(result)"
   ]
  },
  {
   "cell_type": "markdown",
   "id": "continued-silly",
   "metadata": {},
   "source": [
    "# Iterable, Iterator, Generator "
   ]
  },
  {
   "cell_type": "markdown",
   "id": "sexual-change",
   "metadata": {},
   "source": [
    "Iterable is an object, which one can iterate over. It generates an Iterator when passed to iter() method. Iterator is an object, which is used to iterate over an iterable object using __next__() method. Iterators have __next__() method, which returns the next item of the object.\n",
    "\n",
    "Note that every iterator is also an iterable, but not every iterable is an iterator."
   ]
  },
  {
   "cell_type": "code",
   "execution_count": 14,
   "id": "animal-nutrition",
   "metadata": {},
   "outputs": [
    {
     "ename": "TypeError",
     "evalue": "'int' object is not iterable",
     "output_type": "error",
     "traceback": [
      "\u001b[1;31m---------------------------------------------------------------------------\u001b[0m",
      "\u001b[1;31mTypeError\u001b[0m                                 Traceback (most recent call last)",
      "\u001b[1;32m<ipython-input-14-d60bdb59af9c>\u001b[0m in \u001b[0;36m<module>\u001b[1;34m\u001b[0m\n\u001b[1;32m----> 1\u001b[1;33m \u001b[1;32mfor\u001b[0m \u001b[0mi\u001b[0m \u001b[1;32min\u001b[0m \u001b[1;36m7\u001b[0m\u001b[1;33m:\u001b[0m\u001b[1;33m\u001b[0m\u001b[1;33m\u001b[0m\u001b[0m\n\u001b[0m\u001b[0;32m      2\u001b[0m     \u001b[0mprint\u001b[0m\u001b[1;33m(\u001b[0m\u001b[0mi\u001b[0m\u001b[1;33m)\u001b[0m\u001b[1;33m\u001b[0m\u001b[1;33m\u001b[0m\u001b[0m\n",
      "\u001b[1;31mTypeError\u001b[0m: 'int' object is not iterable"
     ]
    }
   ],
   "source": [
    "for i in 7:\n",
    "    print(i)"
   ]
  },
  {
   "cell_type": "code",
   "execution_count": 15,
   "id": "architectural-excess",
   "metadata": {},
   "outputs": [
    {
     "name": "stdout",
     "output_type": "stream",
     "text": [
      "0\n",
      "1\n",
      "2\n",
      "3\n",
      "4\n",
      "5\n",
      "6\n"
     ]
    }
   ],
   "source": [
    "for i in range(7):\n",
    "    print(i)"
   ]
  },
  {
   "cell_type": "code",
   "execution_count": 19,
   "id": "cellular-valuation",
   "metadata": {},
   "outputs": [
    {
     "ename": "TypeError",
     "evalue": "'range' object is not an iterator",
     "output_type": "error",
     "traceback": [
      "\u001b[1;31m---------------------------------------------------------------------------\u001b[0m",
      "\u001b[1;31mTypeError\u001b[0m                                 Traceback (most recent call last)",
      "\u001b[1;32m<ipython-input-19-6cdaf5ff9483>\u001b[0m in \u001b[0;36m<module>\u001b[1;34m\u001b[0m\n\u001b[0;32m      1\u001b[0m \u001b[1;31m#Though it is iterable, it is not a iterator\u001b[0m\u001b[1;33m\u001b[0m\u001b[1;33m\u001b[0m\u001b[1;33m\u001b[0m\u001b[0m\n\u001b[1;32m----> 2\u001b[1;33m \u001b[0mnext\u001b[0m\u001b[1;33m(\u001b[0m\u001b[0mrange\u001b[0m\u001b[1;33m(\u001b[0m\u001b[1;36m7\u001b[0m\u001b[1;33m)\u001b[0m\u001b[1;33m)\u001b[0m\u001b[1;33m\u001b[0m\u001b[1;33m\u001b[0m\u001b[0m\n\u001b[0m",
      "\u001b[1;31mTypeError\u001b[0m: 'range' object is not an iterator"
     ]
    }
   ],
   "source": [
    "#Though it is iterable, it is not a iterator\n",
    "next(range(7))"
   ]
  },
  {
   "cell_type": "code",
   "execution_count": 17,
   "id": "square-pharmacology",
   "metadata": {},
   "outputs": [],
   "source": [
    "#converting iterable to iterator\n",
    "a = iter(range(7))"
   ]
  },
  {
   "cell_type": "code",
   "execution_count": 18,
   "id": "considerable-fairy",
   "metadata": {},
   "outputs": [
    {
     "data": {
      "text/plain": [
       "0"
      ]
     },
     "execution_count": 18,
     "metadata": {},
     "output_type": "execute_result"
    }
   ],
   "source": [
    "next(a)"
   ]
  },
  {
   "cell_type": "markdown",
   "id": "expressed-imperial",
   "metadata": {},
   "source": [
    "Differencr between for loop and next() is that for loop knows when to end the loop whereas next() always searches for the next element and it will show an error if no element is present"
   ]
  },
  {
   "cell_type": "markdown",
   "id": "psychological-prairie",
   "metadata": {},
   "source": [
    "#### Generator"
   ]
  },
  {
   "cell_type": "markdown",
   "id": "dutch-diagnosis",
   "metadata": {},
   "source": [
    "A generator-function is defined like a normal function, but whenever it needs to generate a value, it does so with the yield keyword rather than return. If the body of a def contains yield, the function automatically becomes a generator function."
   ]
  },
  {
   "cell_type": "code",
   "execution_count": 29,
   "id": "dated-oriental",
   "metadata": {},
   "outputs": [],
   "source": [
    "# cube of a number\n",
    "def generate_cube(n):\n",
    "    for i in range(n):\n",
    "        c = i**3\n",
    "        yield c"
   ]
  },
  {
   "cell_type": "code",
   "execution_count": 30,
   "id": "accessible-spencer",
   "metadata": {},
   "outputs": [
    {
     "data": {
      "text/plain": [
       "<generator object generate_cube at 0x00000264036DC0C8>"
      ]
     },
     "execution_count": 30,
     "metadata": {},
     "output_type": "execute_result"
    }
   ],
   "source": [
    "generate_cube(4)"
   ]
  },
  {
   "cell_type": "markdown",
   "id": "simple-measurement",
   "metadata": {},
   "source": [
    "Difference between return statement and yield is that return statement returns the value directly whereas yield returns object "
   ]
  },
  {
   "cell_type": "code",
   "execution_count": 31,
   "id": "worldwide-piano",
   "metadata": {},
   "outputs": [
    {
     "name": "stdout",
     "output_type": "stream",
     "text": [
      "0\n",
      "1\n",
      "8\n",
      "27\n"
     ]
    }
   ],
   "source": [
    "for i in generate_cube(4):\n",
    "    print(i)"
   ]
  },
  {
   "cell_type": "markdown",
   "id": "tamil-exemption",
   "metadata": {},
   "source": [
    "Here we can see that generator is iterable, now let us see whether it is a iterator or not"
   ]
  },
  {
   "cell_type": "code",
   "execution_count": 33,
   "id": "capital-alpha",
   "metadata": {},
   "outputs": [
    {
     "data": {
      "text/plain": [
       "0"
      ]
     },
     "execution_count": 33,
     "metadata": {},
     "output_type": "execute_result"
    }
   ],
   "source": [
    "next(generate_cube(4))"
   ]
  },
  {
   "cell_type": "markdown",
   "id": "final-connectivity",
   "metadata": {},
   "source": [
    "next() always returns 0 which means that generator is not an iterator. To convert it we will use iter()"
   ]
  },
  {
   "cell_type": "code",
   "execution_count": 34,
   "id": "colonial-weight",
   "metadata": {},
   "outputs": [],
   "source": [
    "q = iter(generate_cube(4))"
   ]
  },
  {
   "cell_type": "code",
   "execution_count": 36,
   "id": "particular-chile",
   "metadata": {},
   "outputs": [
    {
     "data": {
      "text/plain": [
       "1"
      ]
     },
     "execution_count": 36,
     "metadata": {},
     "output_type": "execute_result"
    }
   ],
   "source": [
    "next(q)"
   ]
  },
  {
   "cell_type": "markdown",
   "id": "right-tonight",
   "metadata": {},
   "source": [
    "Now it is converted to an iterator"
   ]
  },
  {
   "cell_type": "code",
   "execution_count": 47,
   "id": "powerful-highland",
   "metadata": {},
   "outputs": [],
   "source": [
    "#Fibonacci series\n",
    "def gen_fibo(n):\n",
    "    a, b = 1, 1\n",
    "    for i in range(n):\n",
    "        yield a\n",
    "        a, b = b, a+b"
   ]
  },
  {
   "cell_type": "code",
   "execution_count": 48,
   "id": "junior-convenience",
   "metadata": {},
   "outputs": [
    {
     "data": {
      "text/plain": [
       "<generator object gen_fibo at 0x0000026404B8C8C8>"
      ]
     },
     "execution_count": 48,
     "metadata": {},
     "output_type": "execute_result"
    }
   ],
   "source": [
    "gen_fibo(10)"
   ]
  },
  {
   "cell_type": "code",
   "execution_count": 56,
   "id": "opponent-roads",
   "metadata": {},
   "outputs": [
    {
     "name": "stdout",
     "output_type": "stream",
     "text": [
      "1\n",
      "1\n",
      "2\n",
      "3\n",
      "5\n",
      "8\n",
      "13\n",
      "21\n",
      "34\n",
      "55\n"
     ]
    }
   ],
   "source": [
    "for i in gen_fibo(10):\n",
    "    print(i)"
   ]
  },
  {
   "cell_type": "markdown",
   "id": "durable-dubai",
   "metadata": {},
   "source": [
    "# Map "
   ]
  },
  {
   "cell_type": "code",
   "execution_count": 57,
   "id": "modified-harassment",
   "metadata": {},
   "outputs": [],
   "source": [
    "def square(n):\n",
    "    return n**2"
   ]
  },
  {
   "cell_type": "code",
   "execution_count": 58,
   "id": "twelve-morris",
   "metadata": {},
   "outputs": [
    {
     "name": "stdout",
     "output_type": "stream",
     "text": [
      "[0, 1, 4, 9, 16, 25, 36, 49, 64, 81]\n"
     ]
    }
   ],
   "source": [
    "n=[]\n",
    "for i in range(10):\n",
    "    n.append(square(i))\n",
    "print(n)"
   ]
  },
  {
   "cell_type": "code",
   "execution_count": 65,
   "id": "generous-grill",
   "metadata": {},
   "outputs": [],
   "source": [
    "l = [3,4,5,6,7,8,9]"
   ]
  },
  {
   "cell_type": "code",
   "execution_count": 64,
   "id": "interstate-brick",
   "metadata": {},
   "outputs": [
    {
     "data": {
      "text/plain": [
       "[9, 16, 25, 36, 49, 64, 81]"
      ]
     },
     "execution_count": 64,
     "metadata": {},
     "output_type": "execute_result"
    }
   ],
   "source": [
    "list(map(lambda x:x**2,l))"
   ]
  },
  {
   "cell_type": "code",
   "execution_count": 61,
   "id": "automated-violation",
   "metadata": {},
   "outputs": [
    {
     "data": {
      "text/plain": [
       "[9, 16, 25, 36, 49, 64, 81]"
      ]
     },
     "execution_count": 61,
     "metadata": {},
     "output_type": "execute_result"
    }
   ],
   "source": [
    "[i**2 for i in l]"
   ]
  },
  {
   "cell_type": "code",
   "execution_count": 62,
   "id": "restricted-african",
   "metadata": {},
   "outputs": [
    {
     "data": {
      "text/plain": [
       "[9, 16, 25, 36, 49, 64, 81]"
      ]
     },
     "execution_count": 62,
     "metadata": {},
     "output_type": "execute_result"
    }
   ],
   "source": [
    "list(map(square, l))"
   ]
  },
  {
   "cell_type": "code",
   "execution_count": 63,
   "id": "sunrise-closure",
   "metadata": {},
   "outputs": [
    {
     "name": "stdout",
     "output_type": "stream",
     "text": [
      "9\n",
      "16\n",
      "25\n",
      "36\n",
      "49\n",
      "64\n",
      "81\n"
     ]
    }
   ],
   "source": [
    "for i in map(square, l):\n",
    "    print(i)"
   ]
  },
  {
   "cell_type": "code",
   "execution_count": 66,
   "id": "violent-services",
   "metadata": {},
   "outputs": [],
   "source": [
    "a = [1,2,3,4,5]\n",
    "b = [6,7,8,9,10]\n",
    "c = [3,2,1,4,5,3,2]"
   ]
  },
  {
   "cell_type": "code",
   "execution_count": 67,
   "id": "amber-garage",
   "metadata": {},
   "outputs": [],
   "source": [
    "def summation(x,y,z):\n",
    "    return x+y+z"
   ]
  },
  {
   "cell_type": "code",
   "execution_count": 68,
   "id": "dying-figure",
   "metadata": {},
   "outputs": [
    {
     "data": {
      "text/plain": [
       "[10, 11, 12, 17, 20]"
      ]
     },
     "execution_count": 68,
     "metadata": {},
     "output_type": "execute_result"
    }
   ],
   "source": [
    "list(map(summation,a,b,c))"
   ]
  },
  {
   "cell_type": "code",
   "execution_count": 69,
   "id": "turkish-egypt",
   "metadata": {},
   "outputs": [
    {
     "data": {
      "text/plain": [
       "[10, 11, 12, 17, 20]"
      ]
     },
     "execution_count": 69,
     "metadata": {},
     "output_type": "execute_result"
    }
   ],
   "source": [
    "list(map(lambda x,y,z: x+y+z, a,b,c))"
   ]
  },
  {
   "cell_type": "markdown",
   "id": "handled-charge",
   "metadata": {},
   "source": [
    "# Reduce "
   ]
  },
  {
   "cell_type": "code",
   "execution_count": 70,
   "id": "defensive-monte",
   "metadata": {},
   "outputs": [],
   "source": [
    "from functools import reduce"
   ]
  },
  {
   "cell_type": "code",
   "execution_count": 75,
   "id": "informative-villa",
   "metadata": {},
   "outputs": [],
   "source": [
    "def summation(a,b):\n",
    "    return a+b"
   ]
  },
  {
   "cell_type": "code",
   "execution_count": 76,
   "id": "funky-oracle",
   "metadata": {},
   "outputs": [
    {
     "data": {
      "text/plain": [
       "39"
      ]
     },
     "execution_count": 76,
     "metadata": {},
     "output_type": "execute_result"
    }
   ],
   "source": [
    "l = [4,5,6,7,8,9]\n",
    "reduce(summation,l)"
   ]
  },
  {
   "cell_type": "code",
   "execution_count": 77,
   "id": "introductory-adapter",
   "metadata": {},
   "outputs": [
    {
     "data": {
      "text/plain": [
       "39"
      ]
     },
     "execution_count": 77,
     "metadata": {},
     "output_type": "execute_result"
    }
   ],
   "source": [
    "reduce(lambda x,y: x+y,l)"
   ]
  },
  {
   "cell_type": "markdown",
   "id": "gorgeous-organization",
   "metadata": {},
   "source": [
    "# Filter "
   ]
  },
  {
   "cell_type": "code",
   "execution_count": 78,
   "id": "sitting-implementation",
   "metadata": {},
   "outputs": [],
   "source": [
    "l = [3,2,4,5,2,6,5,7,8,9]"
   ]
  },
  {
   "cell_type": "code",
   "execution_count": 79,
   "id": "quantitative-cooling",
   "metadata": {},
   "outputs": [
    {
     "data": {
      "text/plain": [
       "[2, 4, 2, 6, 8]"
      ]
     },
     "execution_count": 79,
     "metadata": {},
     "output_type": "execute_result"
    }
   ],
   "source": [
    "list(filter(lambda x: x%2==0,l))"
   ]
  },
  {
   "cell_type": "code",
   "execution_count": 83,
   "id": "wicked-logan",
   "metadata": {},
   "outputs": [],
   "source": [
    "def even_check(n):\n",
    "    if n%2==0:\n",
    "        return True"
   ]
  },
  {
   "cell_type": "code",
   "execution_count": 84,
   "id": "headed-killer",
   "metadata": {},
   "outputs": [
    {
     "data": {
      "text/plain": [
       "[2, 4, 2, 6, 8]"
      ]
     },
     "execution_count": 84,
     "metadata": {},
     "output_type": "execute_result"
    }
   ],
   "source": [
    "list(filter(even_check,l))"
   ]
  }
 ],
 "metadata": {
  "kernelspec": {
   "display_name": "Python 3",
   "language": "python",
   "name": "python3"
  },
  "language_info": {
   "codemirror_mode": {
    "name": "ipython",
    "version": 3
   },
   "file_extension": ".py",
   "mimetype": "text/x-python",
   "name": "python",
   "nbconvert_exporter": "python",
   "pygments_lexer": "ipython3",
   "version": "3.7.10"
  }
 },
 "nbformat": 4,
 "nbformat_minor": 5
}
